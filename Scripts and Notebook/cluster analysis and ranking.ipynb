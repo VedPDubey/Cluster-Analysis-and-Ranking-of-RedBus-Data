{
 "cells": [
  {
   "cell_type": "code",
   "execution_count": 1,
   "id": "de2f226a",
   "metadata": {
    "_cell_guid": "b1076dfc-b9ad-4769-8c92-a6c4dae69d19",
    "_uuid": "8f2839f25d086af736a60e9eeb907d3b93b6e0e5",
    "execution": {
     "iopub.execute_input": "2021-11-27T19:56:57.434171Z",
     "iopub.status.busy": "2021-11-27T19:56:57.433087Z",
     "iopub.status.idle": "2021-11-27T19:56:58.231867Z",
     "shell.execute_reply": "2021-11-27T19:56:58.231219Z",
     "shell.execute_reply.started": "2021-11-27T19:38:20.721613Z"
    },
    "papermill": {
     "duration": 0.834097,
     "end_time": "2021-11-27T19:56:58.232080",
     "exception": false,
     "start_time": "2021-11-27T19:56:57.397983",
     "status": "completed"
    },
    "tags": []
   },
   "outputs": [],
   "source": [
    "import pandas as pd\n",
    "import numpy as np\n",
    "import matplotlib.pyplot as plt\n",
    "import seaborn as sns\n",
    "sns.set(rc={'figure.figsize':(15,10)})\n",
    "pd.set_option(\"precision\", 10)\n",
    "import os"
   ]
  },
  {
   "cell_type": "code",
   "execution_count": 2,
   "id": "b1c94dd3",
   "metadata": {
    "execution": {
     "iopub.execute_input": "2021-11-27T19:56:58.298950Z",
     "iopub.status.busy": "2021-11-27T19:56:58.298305Z",
     "iopub.status.idle": "2021-11-27T19:56:58.373876Z",
     "shell.execute_reply": "2021-11-27T19:56:58.374538Z",
     "shell.execute_reply.started": "2021-11-27T19:38:21.876001Z"
    },
    "papermill": {
     "duration": 0.109877,
     "end_time": "2021-11-27T19:56:58.374715",
     "exception": false,
     "start_time": "2021-11-27T19:56:58.264838",
     "status": "completed"
    },
    "tags": []
   },
   "outputs": [],
   "source": [
    "train=pd.read_csv(\"../input/kgp-datathon-second/KGPDT2/PricingData.csv\")"
   ]
  },
  {
   "cell_type": "code",
   "execution_count": 3,
   "id": "2717c2b0",
   "metadata": {
    "execution": {
     "iopub.execute_input": "2021-11-27T19:56:58.437276Z",
     "iopub.status.busy": "2021-11-27T19:56:58.436316Z",
     "iopub.status.idle": "2021-11-27T19:56:58.443760Z",
     "shell.execute_reply": "2021-11-27T19:56:58.444289Z",
     "shell.execute_reply.started": "2021-11-27T19:38:21.935720Z"
    },
    "papermill": {
     "duration": 0.040325,
     "end_time": "2021-11-27T19:56:58.444456",
     "exception": false,
     "start_time": "2021-11-27T19:56:58.404131",
     "status": "completed"
    },
    "tags": []
   },
   "outputs": [
    {
     "data": {
      "text/plain": [
       "(30649, 5)"
      ]
     },
     "execution_count": 3,
     "metadata": {},
     "output_type": "execute_result"
    }
   ],
   "source": [
    "train.shape"
   ]
  },
  {
   "cell_type": "code",
   "execution_count": 4,
   "id": "c28d165e",
   "metadata": {
    "execution": {
     "iopub.execute_input": "2021-11-27T19:56:58.507491Z",
     "iopub.status.busy": "2021-11-27T19:56:58.506562Z",
     "iopub.status.idle": "2021-11-27T19:56:58.523587Z",
     "shell.execute_reply": "2021-11-27T19:56:58.523063Z",
     "shell.execute_reply.started": "2021-11-27T19:38:21.946870Z"
    },
    "papermill": {
     "duration": 0.049665,
     "end_time": "2021-11-27T19:56:58.523720",
     "exception": false,
     "start_time": "2021-11-27T19:56:58.474055",
     "status": "completed"
    },
    "tags": []
   },
   "outputs": [
    {
     "data": {
      "text/html": [
       "<div>\n",
       "<style scoped>\n",
       "    .dataframe tbody tr th:only-of-type {\n",
       "        vertical-align: middle;\n",
       "    }\n",
       "\n",
       "    .dataframe tbody tr th {\n",
       "        vertical-align: top;\n",
       "    }\n",
       "\n",
       "    .dataframe thead th {\n",
       "        text-align: right;\n",
       "    }\n",
       "</style>\n",
       "<table border=\"1\" class=\"dataframe\">\n",
       "  <thead>\n",
       "    <tr style=\"text-align: right;\">\n",
       "      <th></th>\n",
       "      <th>Seat Fare Type 1</th>\n",
       "      <th>Seat Fare Type 2</th>\n",
       "      <th>Bus</th>\n",
       "      <th>Service Date</th>\n",
       "      <th>RecordedAt</th>\n",
       "    </tr>\n",
       "  </thead>\n",
       "  <tbody>\n",
       "    <tr>\n",
       "      <th>0</th>\n",
       "      <td>900.00,800.00</td>\n",
       "      <td>NaN</td>\n",
       "      <td>d6fa79179fda2a77455794637f225962</td>\n",
       "      <td>15-07-2020 00:00</td>\n",
       "      <td>11-07-2020 16:28</td>\n",
       "    </tr>\n",
       "    <tr>\n",
       "      <th>1</th>\n",
       "      <td>910.00,833.00,795.00,762.00</td>\n",
       "      <td>NaN</td>\n",
       "      <td>d6fa79179fda2a77455794637f225962</td>\n",
       "      <td>15-07-2020 00:00</td>\n",
       "      <td>11-07-2020 19:17</td>\n",
       "    </tr>\n",
       "    <tr>\n",
       "      <th>2</th>\n",
       "      <td>910.00,833.00,795.00,762.00</td>\n",
       "      <td>NaN</td>\n",
       "      <td>d6fa79179fda2a77455794637f225962</td>\n",
       "      <td>15-07-2020 00:00</td>\n",
       "      <td>12-07-2020 09:02</td>\n",
       "    </tr>\n",
       "    <tr>\n",
       "      <th>3</th>\n",
       "      <td>910.00,833.00,795.00,762.00</td>\n",
       "      <td>NaN</td>\n",
       "      <td>d6fa79179fda2a77455794637f225962</td>\n",
       "      <td>15-07-2020 00:00</td>\n",
       "      <td>12-07-2020 10:05</td>\n",
       "    </tr>\n",
       "    <tr>\n",
       "      <th>4</th>\n",
       "      <td>876.00,800.00,767.00,729.00</td>\n",
       "      <td>NaN</td>\n",
       "      <td>d6fa79179fda2a77455794637f225962</td>\n",
       "      <td>15-07-2020 00:00</td>\n",
       "      <td>13-07-2020 01:53</td>\n",
       "    </tr>\n",
       "  </tbody>\n",
       "</table>\n",
       "</div>"
      ],
      "text/plain": [
       "              Seat Fare Type 1 Seat Fare Type 2  \\\n",
       "0                900.00,800.00              NaN   \n",
       "1  910.00,833.00,795.00,762.00              NaN   \n",
       "2  910.00,833.00,795.00,762.00              NaN   \n",
       "3  910.00,833.00,795.00,762.00              NaN   \n",
       "4  876.00,800.00,767.00,729.00              NaN   \n",
       "\n",
       "                                Bus      Service Date        RecordedAt  \n",
       "0  d6fa79179fda2a77455794637f225962  15-07-2020 00:00  11-07-2020 16:28  \n",
       "1  d6fa79179fda2a77455794637f225962  15-07-2020 00:00  11-07-2020 19:17  \n",
       "2  d6fa79179fda2a77455794637f225962  15-07-2020 00:00  12-07-2020 09:02  \n",
       "3  d6fa79179fda2a77455794637f225962  15-07-2020 00:00  12-07-2020 10:05  \n",
       "4  d6fa79179fda2a77455794637f225962  15-07-2020 00:00  13-07-2020 01:53  "
      ]
     },
     "execution_count": 4,
     "metadata": {},
     "output_type": "execute_result"
    }
   ],
   "source": [
    "train.head()"
   ]
  },
  {
   "cell_type": "code",
   "execution_count": 5,
   "id": "b90dcb62",
   "metadata": {
    "execution": {
     "iopub.execute_input": "2021-11-27T19:56:58.586712Z",
     "iopub.status.busy": "2021-11-27T19:56:58.586127Z",
     "iopub.status.idle": "2021-11-27T19:56:58.599938Z",
     "shell.execute_reply": "2021-11-27T19:56:58.600417Z",
     "shell.execute_reply.started": "2021-11-27T19:38:21.971210Z"
    },
    "papermill": {
     "duration": 0.046952,
     "end_time": "2021-11-27T19:56:58.600577",
     "exception": false,
     "start_time": "2021-11-27T19:56:58.553625",
     "status": "completed"
    },
    "tags": []
   },
   "outputs": [
    {
     "data": {
      "text/plain": [
       "Seat Fare Type 1    12864\n",
       "Seat Fare Type 2    17903\n",
       "Bus                     0\n",
       "Service Date            0\n",
       "RecordedAt              0\n",
       "dtype: int64"
      ]
     },
     "execution_count": 5,
     "metadata": {},
     "output_type": "execute_result"
    }
   ],
   "source": [
    "train.isnull().sum()"
   ]
  },
  {
   "cell_type": "code",
   "execution_count": 6,
   "id": "be84742b",
   "metadata": {
    "execution": {
     "iopub.execute_input": "2021-11-27T19:56:58.663471Z",
     "iopub.status.busy": "2021-11-27T19:56:58.662884Z",
     "iopub.status.idle": "2021-11-27T19:56:58.689630Z",
     "shell.execute_reply": "2021-11-27T19:56:58.690233Z",
     "shell.execute_reply.started": "2021-11-27T19:38:21.998976Z"
    },
    "papermill": {
     "duration": 0.059822,
     "end_time": "2021-11-27T19:56:58.690410",
     "exception": false,
     "start_time": "2021-11-27T19:56:58.630588",
     "status": "completed"
    },
    "tags": []
   },
   "outputs": [
    {
     "name": "stdout",
     "output_type": "stream",
     "text": [
      "<class 'pandas.core.frame.DataFrame'>\n",
      "RangeIndex: 30649 entries, 0 to 30648\n",
      "Data columns (total 5 columns):\n",
      " #   Column            Non-Null Count  Dtype \n",
      "---  ------            --------------  ----- \n",
      " 0   Seat Fare Type 1  17785 non-null  object\n",
      " 1   Seat Fare Type 2  12746 non-null  object\n",
      " 2   Bus               30649 non-null  object\n",
      " 3   Service Date      30649 non-null  object\n",
      " 4   RecordedAt        30649 non-null  object\n",
      "dtypes: object(5)\n",
      "memory usage: 1.2+ MB\n"
     ]
    }
   ],
   "source": [
    "train.info()"
   ]
  },
  {
   "cell_type": "code",
   "execution_count": 7,
   "id": "d107d0cb",
   "metadata": {
    "execution": {
     "iopub.execute_input": "2021-11-27T19:56:58.757262Z",
     "iopub.status.busy": "2021-11-27T19:56:58.756597Z",
     "iopub.status.idle": "2021-11-27T19:56:58.919049Z",
     "shell.execute_reply": "2021-11-27T19:56:58.919518Z",
     "shell.execute_reply.started": "2021-11-27T19:38:22.032663Z"
    },
    "papermill": {
     "duration": 0.197937,
     "end_time": "2021-11-27T19:56:58.919705",
     "exception": false,
     "start_time": "2021-11-27T19:56:58.721768",
     "status": "completed"
    },
    "tags": []
   },
   "outputs": [],
   "source": [
    "train = pd.concat([train, train['Seat Fare Type 1'].str.split(',', expand=True)], axis=1)"
   ]
  },
  {
   "cell_type": "code",
   "execution_count": 8,
   "id": "5a904d0d",
   "metadata": {
    "execution": {
     "iopub.execute_input": "2021-11-27T19:56:58.986184Z",
     "iopub.status.busy": "2021-11-27T19:56:58.985520Z",
     "iopub.status.idle": "2021-11-27T19:56:58.988142Z",
     "shell.execute_reply": "2021-11-27T19:56:58.987660Z",
     "shell.execute_reply.started": "2021-11-27T19:38:22.253326Z"
    },
    "papermill": {
     "duration": 0.037624,
     "end_time": "2021-11-27T19:56:58.988293",
     "exception": false,
     "start_time": "2021-11-27T19:56:58.950669",
     "status": "completed"
    },
    "tags": []
   },
   "outputs": [],
   "source": [
    "train.columns = train.columns.map(str)"
   ]
  },
  {
   "cell_type": "code",
   "execution_count": 9,
   "id": "8891b7a5",
   "metadata": {
    "execution": {
     "iopub.execute_input": "2021-11-27T19:56:59.077331Z",
     "iopub.status.busy": "2021-11-27T19:56:59.076642Z",
     "iopub.status.idle": "2021-11-27T19:56:59.096363Z",
     "shell.execute_reply": "2021-11-27T19:56:59.096811Z",
     "shell.execute_reply.started": "2021-11-27T19:38:22.259893Z"
    },
    "papermill": {
     "duration": 0.070978,
     "end_time": "2021-11-27T19:56:59.097014",
     "exception": false,
     "start_time": "2021-11-27T19:56:59.026036",
     "status": "completed"
    },
    "tags": []
   },
   "outputs": [],
   "source": [
    "train = train.rename({'0': 'berth1_1','1': 'berth2_1', '2': 'berth3_1','3': 'berth4_1', '4': 'berth5_1','5': 'berth6_1', '6': 'berth7_1'},axis='columns')"
   ]
  },
  {
   "cell_type": "code",
   "execution_count": 10,
   "id": "617a83ca",
   "metadata": {
    "execution": {
     "iopub.execute_input": "2021-11-27T19:56:59.232162Z",
     "iopub.status.busy": "2021-11-27T19:56:59.231511Z",
     "iopub.status.idle": "2021-11-27T19:56:59.278002Z",
     "shell.execute_reply": "2021-11-27T19:56:59.277367Z",
     "shell.execute_reply.started": "2021-11-27T19:38:22.293631Z"
    },
    "papermill": {
     "duration": 0.092087,
     "end_time": "2021-11-27T19:56:59.278136",
     "exception": false,
     "start_time": "2021-11-27T19:56:59.186049",
     "status": "completed"
    },
    "tags": []
   },
   "outputs": [],
   "source": [
    "train.update(train[['berth1_1','berth2_1','berth3_1','berth4_1', 'berth5_1', 'berth6_1','berth7_1']].fillna(0))"
   ]
  },
  {
   "cell_type": "code",
   "execution_count": 11,
   "id": "812c0619",
   "metadata": {
    "execution": {
     "iopub.execute_input": "2021-11-27T19:56:59.354762Z",
     "iopub.status.busy": "2021-11-27T19:56:59.354156Z",
     "iopub.status.idle": "2021-11-27T19:56:59.369228Z",
     "shell.execute_reply": "2021-11-27T19:56:59.369657Z",
     "shell.execute_reply.started": "2021-11-27T19:38:22.383482Z"
    },
    "papermill": {
     "duration": 0.0605,
     "end_time": "2021-11-27T19:56:59.369832",
     "exception": false,
     "start_time": "2021-11-27T19:56:59.309332",
     "status": "completed"
    },
    "tags": []
   },
   "outputs": [
    {
     "data": {
      "text/html": [
       "<div>\n",
       "<style scoped>\n",
       "    .dataframe tbody tr th:only-of-type {\n",
       "        vertical-align: middle;\n",
       "    }\n",
       "\n",
       "    .dataframe tbody tr th {\n",
       "        vertical-align: top;\n",
       "    }\n",
       "\n",
       "    .dataframe thead th {\n",
       "        text-align: right;\n",
       "    }\n",
       "</style>\n",
       "<table border=\"1\" class=\"dataframe\">\n",
       "  <thead>\n",
       "    <tr style=\"text-align: right;\">\n",
       "      <th></th>\n",
       "      <th>Seat Fare Type 1</th>\n",
       "      <th>Seat Fare Type 2</th>\n",
       "      <th>Bus</th>\n",
       "      <th>Service Date</th>\n",
       "      <th>RecordedAt</th>\n",
       "      <th>berth1_1</th>\n",
       "      <th>berth2_1</th>\n",
       "      <th>berth3_1</th>\n",
       "      <th>berth4_1</th>\n",
       "      <th>berth5_1</th>\n",
       "      <th>berth6_1</th>\n",
       "      <th>berth7_1</th>\n",
       "    </tr>\n",
       "  </thead>\n",
       "  <tbody>\n",
       "    <tr>\n",
       "      <th>0</th>\n",
       "      <td>900.00,800.00</td>\n",
       "      <td>NaN</td>\n",
       "      <td>d6fa79179fda2a77455794637f225962</td>\n",
       "      <td>15-07-2020 00:00</td>\n",
       "      <td>11-07-2020 16:28</td>\n",
       "      <td>900.00</td>\n",
       "      <td>800.00</td>\n",
       "      <td>0</td>\n",
       "      <td>0</td>\n",
       "      <td>0</td>\n",
       "      <td>0</td>\n",
       "      <td>0</td>\n",
       "    </tr>\n",
       "    <tr>\n",
       "      <th>1</th>\n",
       "      <td>910.00,833.00,795.00,762.00</td>\n",
       "      <td>NaN</td>\n",
       "      <td>d6fa79179fda2a77455794637f225962</td>\n",
       "      <td>15-07-2020 00:00</td>\n",
       "      <td>11-07-2020 19:17</td>\n",
       "      <td>910.00</td>\n",
       "      <td>833.00</td>\n",
       "      <td>795.00</td>\n",
       "      <td>762.00</td>\n",
       "      <td>0</td>\n",
       "      <td>0</td>\n",
       "      <td>0</td>\n",
       "    </tr>\n",
       "    <tr>\n",
       "      <th>2</th>\n",
       "      <td>910.00,833.00,795.00,762.00</td>\n",
       "      <td>NaN</td>\n",
       "      <td>d6fa79179fda2a77455794637f225962</td>\n",
       "      <td>15-07-2020 00:00</td>\n",
       "      <td>12-07-2020 09:02</td>\n",
       "      <td>910.00</td>\n",
       "      <td>833.00</td>\n",
       "      <td>795.00</td>\n",
       "      <td>762.00</td>\n",
       "      <td>0</td>\n",
       "      <td>0</td>\n",
       "      <td>0</td>\n",
       "    </tr>\n",
       "    <tr>\n",
       "      <th>3</th>\n",
       "      <td>910.00,833.00,795.00,762.00</td>\n",
       "      <td>NaN</td>\n",
       "      <td>d6fa79179fda2a77455794637f225962</td>\n",
       "      <td>15-07-2020 00:00</td>\n",
       "      <td>12-07-2020 10:05</td>\n",
       "      <td>910.00</td>\n",
       "      <td>833.00</td>\n",
       "      <td>795.00</td>\n",
       "      <td>762.00</td>\n",
       "      <td>0</td>\n",
       "      <td>0</td>\n",
       "      <td>0</td>\n",
       "    </tr>\n",
       "    <tr>\n",
       "      <th>4</th>\n",
       "      <td>876.00,800.00,767.00,729.00</td>\n",
       "      <td>NaN</td>\n",
       "      <td>d6fa79179fda2a77455794637f225962</td>\n",
       "      <td>15-07-2020 00:00</td>\n",
       "      <td>13-07-2020 01:53</td>\n",
       "      <td>876.00</td>\n",
       "      <td>800.00</td>\n",
       "      <td>767.00</td>\n",
       "      <td>729.00</td>\n",
       "      <td>0</td>\n",
       "      <td>0</td>\n",
       "      <td>0</td>\n",
       "    </tr>\n",
       "  </tbody>\n",
       "</table>\n",
       "</div>"
      ],
      "text/plain": [
       "              Seat Fare Type 1 Seat Fare Type 2  \\\n",
       "0                900.00,800.00              NaN   \n",
       "1  910.00,833.00,795.00,762.00              NaN   \n",
       "2  910.00,833.00,795.00,762.00              NaN   \n",
       "3  910.00,833.00,795.00,762.00              NaN   \n",
       "4  876.00,800.00,767.00,729.00              NaN   \n",
       "\n",
       "                                Bus      Service Date        RecordedAt  \\\n",
       "0  d6fa79179fda2a77455794637f225962  15-07-2020 00:00  11-07-2020 16:28   \n",
       "1  d6fa79179fda2a77455794637f225962  15-07-2020 00:00  11-07-2020 19:17   \n",
       "2  d6fa79179fda2a77455794637f225962  15-07-2020 00:00  12-07-2020 09:02   \n",
       "3  d6fa79179fda2a77455794637f225962  15-07-2020 00:00  12-07-2020 10:05   \n",
       "4  d6fa79179fda2a77455794637f225962  15-07-2020 00:00  13-07-2020 01:53   \n",
       "\n",
       "  berth1_1 berth2_1 berth3_1 berth4_1 berth5_1 berth6_1 berth7_1  \n",
       "0   900.00   800.00        0        0        0        0        0  \n",
       "1   910.00   833.00   795.00   762.00        0        0        0  \n",
       "2   910.00   833.00   795.00   762.00        0        0        0  \n",
       "3   910.00   833.00   795.00   762.00        0        0        0  \n",
       "4   876.00   800.00   767.00   729.00        0        0        0  "
      ]
     },
     "execution_count": 11,
     "metadata": {},
     "output_type": "execute_result"
    }
   ],
   "source": [
    "train.head()"
   ]
  },
  {
   "cell_type": "code",
   "execution_count": 12,
   "id": "8a3e4462",
   "metadata": {
    "execution": {
     "iopub.execute_input": "2021-11-27T19:56:59.436321Z",
     "iopub.status.busy": "2021-11-27T19:56:59.435304Z",
     "iopub.status.idle": "2021-11-27T19:56:59.486315Z",
     "shell.execute_reply": "2021-11-27T19:56:59.486807Z",
     "shell.execute_reply.started": "2021-11-27T19:38:22.406462Z"
    },
    "papermill": {
     "duration": 0.086278,
     "end_time": "2021-11-27T19:56:59.487002",
     "exception": false,
     "start_time": "2021-11-27T19:56:59.400724",
     "status": "completed"
    },
    "tags": []
   },
   "outputs": [],
   "source": [
    "train = pd.concat([train, train['Seat Fare Type 2'].str.split(',', expand=True)], axis=1)"
   ]
  },
  {
   "cell_type": "code",
   "execution_count": 13,
   "id": "255044f7",
   "metadata": {
    "execution": {
     "iopub.execute_input": "2021-11-27T19:56:59.551847Z",
     "iopub.status.busy": "2021-11-27T19:56:59.551273Z",
     "iopub.status.idle": "2021-11-27T19:56:59.554758Z",
     "shell.execute_reply": "2021-11-27T19:56:59.555646Z",
     "shell.execute_reply.started": "2021-11-27T19:38:22.484756Z"
    },
    "papermill": {
     "duration": 0.038114,
     "end_time": "2021-11-27T19:56:59.555837",
     "exception": false,
     "start_time": "2021-11-27T19:56:59.517723",
     "status": "completed"
    },
    "tags": []
   },
   "outputs": [],
   "source": [
    "train.columns = train.columns.map(str)"
   ]
  },
  {
   "cell_type": "code",
   "execution_count": 14,
   "id": "3afd1fc6",
   "metadata": {
    "execution": {
     "iopub.execute_input": "2021-11-27T19:56:59.627311Z",
     "iopub.status.busy": "2021-11-27T19:56:59.626635Z",
     "iopub.status.idle": "2021-11-27T19:56:59.647583Z",
     "shell.execute_reply": "2021-11-27T19:56:59.648078Z",
     "shell.execute_reply.started": "2021-11-27T19:38:22.492736Z"
    },
    "papermill": {
     "duration": 0.061608,
     "end_time": "2021-11-27T19:56:59.648291",
     "exception": false,
     "start_time": "2021-11-27T19:56:59.586683",
     "status": "completed"
    },
    "tags": []
   },
   "outputs": [],
   "source": [
    "train = train.rename({'0': 'berth1_2','1': 'berth2_2', '2': 'berth3_2','3': 'berth4_2'},axis='columns')"
   ]
  },
  {
   "cell_type": "code",
   "execution_count": 15,
   "id": "6523fd91",
   "metadata": {
    "execution": {
     "iopub.execute_input": "2021-11-27T19:56:59.749231Z",
     "iopub.status.busy": "2021-11-27T19:56:59.748493Z",
     "iopub.status.idle": "2021-11-27T19:56:59.778565Z",
     "shell.execute_reply": "2021-11-27T19:56:59.778045Z",
     "shell.execute_reply.started": "2021-11-27T19:38:22.536206Z"
    },
    "papermill": {
     "duration": 0.089099,
     "end_time": "2021-11-27T19:56:59.778708",
     "exception": false,
     "start_time": "2021-11-27T19:56:59.689609",
     "status": "completed"
    },
    "tags": []
   },
   "outputs": [],
   "source": [
    "train.update(train[['berth1_2','berth2_2','berth3_2','berth4_2']].fillna(0))"
   ]
  },
  {
   "cell_type": "code",
   "execution_count": 16,
   "id": "119b3ca5",
   "metadata": {
    "execution": {
     "iopub.execute_input": "2021-11-27T19:56:59.859333Z",
     "iopub.status.busy": "2021-11-27T19:56:59.858654Z",
     "iopub.status.idle": "2021-11-27T19:56:59.862233Z",
     "shell.execute_reply": "2021-11-27T19:56:59.861740Z",
     "shell.execute_reply.started": "2021-11-27T19:38:22.587205Z"
    },
    "papermill": {
     "duration": 0.052564,
     "end_time": "2021-11-27T19:56:59.862378",
     "exception": false,
     "start_time": "2021-11-27T19:56:59.809814",
     "status": "completed"
    },
    "tags": []
   },
   "outputs": [
    {
     "data": {
      "text/html": [
       "<div>\n",
       "<style scoped>\n",
       "    .dataframe tbody tr th:only-of-type {\n",
       "        vertical-align: middle;\n",
       "    }\n",
       "\n",
       "    .dataframe tbody tr th {\n",
       "        vertical-align: top;\n",
       "    }\n",
       "\n",
       "    .dataframe thead th {\n",
       "        text-align: right;\n",
       "    }\n",
       "</style>\n",
       "<table border=\"1\" class=\"dataframe\">\n",
       "  <thead>\n",
       "    <tr style=\"text-align: right;\">\n",
       "      <th></th>\n",
       "      <th>Seat Fare Type 1</th>\n",
       "      <th>Seat Fare Type 2</th>\n",
       "      <th>Bus</th>\n",
       "      <th>Service Date</th>\n",
       "      <th>RecordedAt</th>\n",
       "      <th>berth1_1</th>\n",
       "      <th>berth2_1</th>\n",
       "      <th>berth3_1</th>\n",
       "      <th>berth4_1</th>\n",
       "      <th>berth5_1</th>\n",
       "      <th>berth6_1</th>\n",
       "      <th>berth7_1</th>\n",
       "      <th>berth1_2</th>\n",
       "      <th>berth2_2</th>\n",
       "      <th>berth3_2</th>\n",
       "      <th>berth4_2</th>\n",
       "    </tr>\n",
       "  </thead>\n",
       "  <tbody>\n",
       "    <tr>\n",
       "      <th>0</th>\n",
       "      <td>900.00,800.00</td>\n",
       "      <td>NaN</td>\n",
       "      <td>d6fa79179fda2a77455794637f225962</td>\n",
       "      <td>15-07-2020 00:00</td>\n",
       "      <td>11-07-2020 16:28</td>\n",
       "      <td>900.00</td>\n",
       "      <td>800.00</td>\n",
       "      <td>0</td>\n",
       "      <td>0</td>\n",
       "      <td>0</td>\n",
       "      <td>0</td>\n",
       "      <td>0</td>\n",
       "      <td>0</td>\n",
       "      <td>0</td>\n",
       "      <td>0</td>\n",
       "      <td>0</td>\n",
       "    </tr>\n",
       "    <tr>\n",
       "      <th>1</th>\n",
       "      <td>910.00,833.00,795.00,762.00</td>\n",
       "      <td>NaN</td>\n",
       "      <td>d6fa79179fda2a77455794637f225962</td>\n",
       "      <td>15-07-2020 00:00</td>\n",
       "      <td>11-07-2020 19:17</td>\n",
       "      <td>910.00</td>\n",
       "      <td>833.00</td>\n",
       "      <td>795.00</td>\n",
       "      <td>762.00</td>\n",
       "      <td>0</td>\n",
       "      <td>0</td>\n",
       "      <td>0</td>\n",
       "      <td>0</td>\n",
       "      <td>0</td>\n",
       "      <td>0</td>\n",
       "      <td>0</td>\n",
       "    </tr>\n",
       "    <tr>\n",
       "      <th>2</th>\n",
       "      <td>910.00,833.00,795.00,762.00</td>\n",
       "      <td>NaN</td>\n",
       "      <td>d6fa79179fda2a77455794637f225962</td>\n",
       "      <td>15-07-2020 00:00</td>\n",
       "      <td>12-07-2020 09:02</td>\n",
       "      <td>910.00</td>\n",
       "      <td>833.00</td>\n",
       "      <td>795.00</td>\n",
       "      <td>762.00</td>\n",
       "      <td>0</td>\n",
       "      <td>0</td>\n",
       "      <td>0</td>\n",
       "      <td>0</td>\n",
       "      <td>0</td>\n",
       "      <td>0</td>\n",
       "      <td>0</td>\n",
       "    </tr>\n",
       "    <tr>\n",
       "      <th>3</th>\n",
       "      <td>910.00,833.00,795.00,762.00</td>\n",
       "      <td>NaN</td>\n",
       "      <td>d6fa79179fda2a77455794637f225962</td>\n",
       "      <td>15-07-2020 00:00</td>\n",
       "      <td>12-07-2020 10:05</td>\n",
       "      <td>910.00</td>\n",
       "      <td>833.00</td>\n",
       "      <td>795.00</td>\n",
       "      <td>762.00</td>\n",
       "      <td>0</td>\n",
       "      <td>0</td>\n",
       "      <td>0</td>\n",
       "      <td>0</td>\n",
       "      <td>0</td>\n",
       "      <td>0</td>\n",
       "      <td>0</td>\n",
       "    </tr>\n",
       "    <tr>\n",
       "      <th>4</th>\n",
       "      <td>876.00,800.00,767.00,729.00</td>\n",
       "      <td>NaN</td>\n",
       "      <td>d6fa79179fda2a77455794637f225962</td>\n",
       "      <td>15-07-2020 00:00</td>\n",
       "      <td>13-07-2020 01:53</td>\n",
       "      <td>876.00</td>\n",
       "      <td>800.00</td>\n",
       "      <td>767.00</td>\n",
       "      <td>729.00</td>\n",
       "      <td>0</td>\n",
       "      <td>0</td>\n",
       "      <td>0</td>\n",
       "      <td>0</td>\n",
       "      <td>0</td>\n",
       "      <td>0</td>\n",
       "      <td>0</td>\n",
       "    </tr>\n",
       "  </tbody>\n",
       "</table>\n",
       "</div>"
      ],
      "text/plain": [
       "              Seat Fare Type 1 Seat Fare Type 2  \\\n",
       "0                900.00,800.00              NaN   \n",
       "1  910.00,833.00,795.00,762.00              NaN   \n",
       "2  910.00,833.00,795.00,762.00              NaN   \n",
       "3  910.00,833.00,795.00,762.00              NaN   \n",
       "4  876.00,800.00,767.00,729.00              NaN   \n",
       "\n",
       "                                Bus      Service Date        RecordedAt  \\\n",
       "0  d6fa79179fda2a77455794637f225962  15-07-2020 00:00  11-07-2020 16:28   \n",
       "1  d6fa79179fda2a77455794637f225962  15-07-2020 00:00  11-07-2020 19:17   \n",
       "2  d6fa79179fda2a77455794637f225962  15-07-2020 00:00  12-07-2020 09:02   \n",
       "3  d6fa79179fda2a77455794637f225962  15-07-2020 00:00  12-07-2020 10:05   \n",
       "4  d6fa79179fda2a77455794637f225962  15-07-2020 00:00  13-07-2020 01:53   \n",
       "\n",
       "  berth1_1 berth2_1 berth3_1 berth4_1 berth5_1 berth6_1 berth7_1 berth1_2  \\\n",
       "0   900.00   800.00        0        0        0        0        0        0   \n",
       "1   910.00   833.00   795.00   762.00        0        0        0        0   \n",
       "2   910.00   833.00   795.00   762.00        0        0        0        0   \n",
       "3   910.00   833.00   795.00   762.00        0        0        0        0   \n",
       "4   876.00   800.00   767.00   729.00        0        0        0        0   \n",
       "\n",
       "  berth2_2 berth3_2 berth4_2  \n",
       "0        0        0        0  \n",
       "1        0        0        0  \n",
       "2        0        0        0  \n",
       "3        0        0        0  \n",
       "4        0        0        0  "
      ]
     },
     "execution_count": 16,
     "metadata": {},
     "output_type": "execute_result"
    }
   ],
   "source": [
    "train.head()"
   ]
  },
  {
   "cell_type": "code",
   "execution_count": 17,
   "id": "9f7cfd46",
   "metadata": {
    "execution": {
     "iopub.execute_input": "2021-11-27T19:56:59.930059Z",
     "iopub.status.busy": "2021-11-27T19:56:59.927418Z",
     "iopub.status.idle": "2021-11-27T19:56:59.934887Z",
     "shell.execute_reply": "2021-11-27T19:56:59.935320Z",
     "shell.execute_reply.started": "2021-11-27T19:38:22.609397Z"
    },
    "papermill": {
     "duration": 0.041926,
     "end_time": "2021-11-27T19:56:59.935485",
     "exception": false,
     "start_time": "2021-11-27T19:56:59.893559",
     "status": "completed"
    },
    "tags": []
   },
   "outputs": [],
   "source": [
    "train.drop(['Seat Fare Type 1', 'Seat Fare Type 2','Service Date','RecordedAt'], axis=1, inplace=True)"
   ]
  },
  {
   "cell_type": "code",
   "execution_count": 18,
   "id": "0f6eea6a",
   "metadata": {
    "execution": {
     "iopub.execute_input": "2021-11-27T19:57:00.006811Z",
     "iopub.status.busy": "2021-11-27T19:57:00.006020Z",
     "iopub.status.idle": "2021-11-27T19:57:00.016040Z",
     "shell.execute_reply": "2021-11-27T19:57:00.016541Z",
     "shell.execute_reply.started": "2021-11-27T19:38:22.628330Z"
    },
    "papermill": {
     "duration": 0.04985,
     "end_time": "2021-11-27T19:57:00.016702",
     "exception": false,
     "start_time": "2021-11-27T19:56:59.966852",
     "status": "completed"
    },
    "tags": []
   },
   "outputs": [
    {
     "data": {
      "text/html": [
       "<div>\n",
       "<style scoped>\n",
       "    .dataframe tbody tr th:only-of-type {\n",
       "        vertical-align: middle;\n",
       "    }\n",
       "\n",
       "    .dataframe tbody tr th {\n",
       "        vertical-align: top;\n",
       "    }\n",
       "\n",
       "    .dataframe thead th {\n",
       "        text-align: right;\n",
       "    }\n",
       "</style>\n",
       "<table border=\"1\" class=\"dataframe\">\n",
       "  <thead>\n",
       "    <tr style=\"text-align: right;\">\n",
       "      <th></th>\n",
       "      <th>Bus</th>\n",
       "      <th>berth1_1</th>\n",
       "      <th>berth2_1</th>\n",
       "      <th>berth3_1</th>\n",
       "      <th>berth4_1</th>\n",
       "      <th>berth5_1</th>\n",
       "      <th>berth6_1</th>\n",
       "      <th>berth7_1</th>\n",
       "      <th>berth1_2</th>\n",
       "      <th>berth2_2</th>\n",
       "      <th>berth3_2</th>\n",
       "      <th>berth4_2</th>\n",
       "    </tr>\n",
       "  </thead>\n",
       "  <tbody>\n",
       "    <tr>\n",
       "      <th>0</th>\n",
       "      <td>d6fa79179fda2a77455794637f225962</td>\n",
       "      <td>900.00</td>\n",
       "      <td>800.00</td>\n",
       "      <td>0</td>\n",
       "      <td>0</td>\n",
       "      <td>0</td>\n",
       "      <td>0</td>\n",
       "      <td>0</td>\n",
       "      <td>0</td>\n",
       "      <td>0</td>\n",
       "      <td>0</td>\n",
       "      <td>0</td>\n",
       "    </tr>\n",
       "    <tr>\n",
       "      <th>1</th>\n",
       "      <td>d6fa79179fda2a77455794637f225962</td>\n",
       "      <td>910.00</td>\n",
       "      <td>833.00</td>\n",
       "      <td>795.00</td>\n",
       "      <td>762.00</td>\n",
       "      <td>0</td>\n",
       "      <td>0</td>\n",
       "      <td>0</td>\n",
       "      <td>0</td>\n",
       "      <td>0</td>\n",
       "      <td>0</td>\n",
       "      <td>0</td>\n",
       "    </tr>\n",
       "    <tr>\n",
       "      <th>2</th>\n",
       "      <td>d6fa79179fda2a77455794637f225962</td>\n",
       "      <td>910.00</td>\n",
       "      <td>833.00</td>\n",
       "      <td>795.00</td>\n",
       "      <td>762.00</td>\n",
       "      <td>0</td>\n",
       "      <td>0</td>\n",
       "      <td>0</td>\n",
       "      <td>0</td>\n",
       "      <td>0</td>\n",
       "      <td>0</td>\n",
       "      <td>0</td>\n",
       "    </tr>\n",
       "    <tr>\n",
       "      <th>3</th>\n",
       "      <td>d6fa79179fda2a77455794637f225962</td>\n",
       "      <td>910.00</td>\n",
       "      <td>833.00</td>\n",
       "      <td>795.00</td>\n",
       "      <td>762.00</td>\n",
       "      <td>0</td>\n",
       "      <td>0</td>\n",
       "      <td>0</td>\n",
       "      <td>0</td>\n",
       "      <td>0</td>\n",
       "      <td>0</td>\n",
       "      <td>0</td>\n",
       "    </tr>\n",
       "    <tr>\n",
       "      <th>4</th>\n",
       "      <td>d6fa79179fda2a77455794637f225962</td>\n",
       "      <td>876.00</td>\n",
       "      <td>800.00</td>\n",
       "      <td>767.00</td>\n",
       "      <td>729.00</td>\n",
       "      <td>0</td>\n",
       "      <td>0</td>\n",
       "      <td>0</td>\n",
       "      <td>0</td>\n",
       "      <td>0</td>\n",
       "      <td>0</td>\n",
       "      <td>0</td>\n",
       "    </tr>\n",
       "  </tbody>\n",
       "</table>\n",
       "</div>"
      ],
      "text/plain": [
       "                                Bus berth1_1 berth2_1 berth3_1 berth4_1  \\\n",
       "0  d6fa79179fda2a77455794637f225962   900.00   800.00        0        0   \n",
       "1  d6fa79179fda2a77455794637f225962   910.00   833.00   795.00   762.00   \n",
       "2  d6fa79179fda2a77455794637f225962   910.00   833.00   795.00   762.00   \n",
       "3  d6fa79179fda2a77455794637f225962   910.00   833.00   795.00   762.00   \n",
       "4  d6fa79179fda2a77455794637f225962   876.00   800.00   767.00   729.00   \n",
       "\n",
       "  berth5_1 berth6_1 berth7_1 berth1_2 berth2_2 berth3_2 berth4_2  \n",
       "0        0        0        0        0        0        0        0  \n",
       "1        0        0        0        0        0        0        0  \n",
       "2        0        0        0        0        0        0        0  \n",
       "3        0        0        0        0        0        0        0  \n",
       "4        0        0        0        0        0        0        0  "
      ]
     },
     "execution_count": 18,
     "metadata": {},
     "output_type": "execute_result"
    }
   ],
   "source": [
    "train.head()"
   ]
  },
  {
   "cell_type": "code",
   "execution_count": 19,
   "id": "62185744",
   "metadata": {
    "execution": {
     "iopub.execute_input": "2021-11-27T19:57:00.087203Z",
     "iopub.status.busy": "2021-11-27T19:57:00.084552Z",
     "iopub.status.idle": "2021-11-27T19:57:00.122093Z",
     "shell.execute_reply": "2021-11-27T19:57:00.122594Z",
     "shell.execute_reply.started": "2021-11-27T19:38:22.651216Z"
    },
    "papermill": {
     "duration": 0.074209,
     "end_time": "2021-11-27T19:57:00.122764",
     "exception": false,
     "start_time": "2021-11-27T19:57:00.048555",
     "status": "completed"
    },
    "tags": []
   },
   "outputs": [],
   "source": [
    "train[train.columns[1:]] = train[train.columns[1:]].astype(float)"
   ]
  },
  {
   "cell_type": "code",
   "execution_count": 20,
   "id": "a5959692",
   "metadata": {
    "execution": {
     "iopub.execute_input": "2021-11-27T19:57:00.190073Z",
     "iopub.status.busy": "2021-11-27T19:57:00.188976Z",
     "iopub.status.idle": "2021-11-27T19:57:00.207710Z",
     "shell.execute_reply": "2021-11-27T19:57:00.208180Z",
     "shell.execute_reply.started": "2021-11-27T19:38:22.714687Z"
    },
    "papermill": {
     "duration": 0.053744,
     "end_time": "2021-11-27T19:57:00.208364",
     "exception": false,
     "start_time": "2021-11-27T19:57:00.154620",
     "status": "completed"
    },
    "tags": []
   },
   "outputs": [],
   "source": [
    "train.drop_duplicates(keep='first', inplace=True)"
   ]
  },
  {
   "cell_type": "code",
   "execution_count": 21,
   "id": "659c4691",
   "metadata": {
    "execution": {
     "iopub.execute_input": "2021-11-27T19:57:00.277245Z",
     "iopub.status.busy": "2021-11-27T19:57:00.276326Z",
     "iopub.status.idle": "2021-11-27T19:57:00.281692Z",
     "shell.execute_reply": "2021-11-27T19:57:00.282186Z",
     "shell.execute_reply.started": "2021-11-27T19:38:22.737523Z"
    },
    "papermill": {
     "duration": 0.041065,
     "end_time": "2021-11-27T19:57:00.282356",
     "exception": false,
     "start_time": "2021-11-27T19:57:00.241291",
     "status": "completed"
    },
    "tags": []
   },
   "outputs": [],
   "source": [
    "id = train[\"Bus\"]\n",
    "train.drop(['Bus'], axis=1, inplace=True)\n",
    "reduced_data = train.values"
   ]
  },
  {
   "cell_type": "code",
   "execution_count": 22,
   "id": "1cb71d8b",
   "metadata": {
    "execution": {
     "iopub.execute_input": "2021-11-27T19:57:00.351181Z",
     "iopub.status.busy": "2021-11-27T19:57:00.350376Z",
     "iopub.status.idle": "2021-11-27T19:57:00.569985Z",
     "shell.execute_reply": "2021-11-27T19:57:00.570433Z",
     "shell.execute_reply.started": "2021-11-27T19:38:22.744906Z"
    },
    "papermill": {
     "duration": 0.256043,
     "end_time": "2021-11-27T19:57:00.570611",
     "exception": false,
     "start_time": "2021-11-27T19:57:00.314568",
     "status": "completed"
    },
    "tags": []
   },
   "outputs": [],
   "source": [
    "from sklearn import preprocessing\n",
    "min_max_scaler = preprocessing.MinMaxScaler()\n",
    "reduced_data = min_max_scaler.fit_transform(reduced_data)"
   ]
  },
  {
   "cell_type": "code",
   "execution_count": 23,
   "id": "9503132a",
   "metadata": {
    "execution": {
     "iopub.execute_input": "2021-11-27T19:57:00.638622Z",
     "iopub.status.busy": "2021-11-27T19:57:00.638016Z",
     "iopub.status.idle": "2021-11-27T19:57:11.740946Z",
     "shell.execute_reply": "2021-11-27T19:57:11.741871Z",
     "shell.execute_reply.started": "2021-11-27T19:38:22.914955Z"
    },
    "papermill": {
     "duration": 11.13884,
     "end_time": "2021-11-27T19:57:11.742094",
     "exception": false,
     "start_time": "2021-11-27T19:57:00.603254",
     "status": "completed"
    },
    "tags": []
   },
   "outputs": [
    {
     "data": {
      "image/png": "[encoded data removed]",
      "text/plain": [
       "<Figure size 1080x720 with 1 Axes>"
      ]
     },
     "metadata": {},
     "output_type": "display_data"
    }
   ],
   "source": [
    "from sklearn.cluster import KMeans\n",
    "data_frame = reduced_data\n",
    "Sum_of_squared_distances = []\n",
    "K = range(1,10)\n",
    "for num_clusters in K :\n",
    " kmeans = KMeans(n_clusters=num_clusters)\n",
    " kmeans.fit(data_frame)\n",
    " Sum_of_squared_distances.append(kmeans.inertia_)\n",
    "plt.plot(K,Sum_of_squared_distances,'bx-')\n",
    "plt.xlabel('Values of K') \n",
    "plt.ylabel('Sum of squared distances/Inertia') \n",
    "plt.title('Elbow Method For Optimal k')\n",
    "plt.show()"
   ]
  },
  {
   "cell_type": "code",
   "execution_count": 24,
   "id": "d0a1ffba",
   "metadata": {
    "execution": {
     "iopub.execute_input": "2021-11-27T19:57:11.833579Z",
     "iopub.status.busy": "2021-11-27T19:57:11.831005Z",
     "iopub.status.idle": "2021-11-27T19:57:11.861521Z",
     "shell.execute_reply": "2021-11-27T19:57:11.860934Z",
     "shell.execute_reply.started": "2021-11-27T19:38:33.871924Z"
    },
    "papermill": {
     "duration": 0.07634,
     "end_time": "2021-11-27T19:57:11.861693",
     "exception": false,
     "start_time": "2021-11-27T19:57:11.785353",
     "status": "completed"
    },
    "tags": []
   },
   "outputs": [],
   "source": [
    "from sklearn.decomposition import PCA\n",
    "reduced_data = PCA(n_components=2).fit_transform(train)\n",
    "results = pd.DataFrame(reduced_data,columns=['pca1','pca2'])"
   ]
  },
  {
   "cell_type": "code",
   "execution_count": 25,
   "id": "5802895a",
   "metadata": {
    "execution": {
     "iopub.execute_input": "2021-11-27T19:57:11.984288Z",
     "iopub.status.busy": "2021-11-27T19:57:11.983619Z",
     "iopub.status.idle": "2021-11-27T19:57:12.198855Z",
     "shell.execute_reply": "2021-11-27T19:57:12.199462Z",
     "shell.execute_reply.started": "2021-11-27T19:38:33.894282Z"
    },
    "papermill": {
     "duration": 0.272143,
     "end_time": "2021-11-27T19:57:12.199660",
     "exception": false,
     "start_time": "2021-11-27T19:57:11.927517",
     "status": "completed"
    },
    "tags": []
   },
   "outputs": [],
   "source": [
    "kmeansmodel = KMeans(n_clusters=4, init='k-means++', random_state=0)\n",
    "y_kmeans= kmeansmodel.fit_predict(reduced_data)"
   ]
  },
  {
   "cell_type": "code",
   "execution_count": 26,
   "id": "3b23ea53",
   "metadata": {
    "execution": {
     "iopub.execute_input": "2021-11-27T19:57:12.296020Z",
     "iopub.status.busy": "2021-11-27T19:57:12.294948Z",
     "iopub.status.idle": "2021-11-27T19:57:12.297241Z",
     "shell.execute_reply": "2021-11-27T19:57:12.296671Z",
     "shell.execute_reply.started": "2021-11-27T19:38:34.050211Z"
    },
    "papermill": {
     "duration": 0.054282,
     "end_time": "2021-11-27T19:57:12.297405",
     "exception": false,
     "start_time": "2021-11-27T19:57:12.243123",
     "status": "completed"
    },
    "tags": []
   },
   "outputs": [],
   "source": [
    "y_k=pd.DataFrame(y_kmeans, columns=['Clusters']) \n",
    "train[\"Clusters\"]=y_k"
   ]
  },
  {
   "cell_type": "code",
   "execution_count": 27,
   "id": "0a6fe103",
   "metadata": {
    "execution": {
     "iopub.execute_input": "2021-11-27T19:57:12.389471Z",
     "iopub.status.busy": "2021-11-27T19:57:12.388765Z",
     "iopub.status.idle": "2021-11-27T19:57:12.825350Z",
     "shell.execute_reply": "2021-11-27T19:57:12.825821Z",
     "shell.execute_reply.started": "2021-11-27T19:38:34.058519Z"
    },
    "papermill": {
     "duration": 0.485816,
     "end_time": "2021-11-27T19:57:12.826028",
     "exception": false,
     "start_time": "2021-11-27T19:57:12.340212",
     "status": "completed"
    },
    "tags": []
   },
   "outputs": [
    {
     "data": {
      "image/png": "[encoded data removed]",
      "text/plain": [
       "<Figure size 1080x720 with 1 Axes>"
      ]
     },
     "metadata": {},
     "output_type": "display_data"
    }
   ],
   "source": [
    "sns.scatterplot(x=\"pca1\", y=\"pca2\", hue=train['Clusters'], data=results)\n",
    "centers = np.array(kmeansmodel.cluster_centers_)\n",
    "plt.scatter(centers[:,0], centers[:,1], marker=\"x\", color='r')\n",
    "plt.title('K-means Clustering with 2 dimensions')\n",
    "plt.show()"
   ]
  },
  {
   "cell_type": "code",
   "execution_count": 28,
   "id": "8c916d0b",
   "metadata": {
    "execution": {
     "iopub.execute_input": "2021-11-27T19:57:12.903835Z",
     "iopub.status.busy": "2021-11-27T19:57:12.903216Z",
     "iopub.status.idle": "2021-11-27T19:57:12.909640Z",
     "shell.execute_reply": "2021-11-27T19:57:12.909042Z",
     "shell.execute_reply.started": "2021-11-27T19:38:34.580525Z"
    },
    "papermill": {
     "duration": 0.048528,
     "end_time": "2021-11-27T19:57:12.909774",
     "exception": false,
     "start_time": "2021-11-27T19:57:12.861246",
     "status": "completed"
    },
    "tags": []
   },
   "outputs": [],
   "source": [
    "import numpy.matlib\n",
    "def soft_clustering_weights(data, cluster_centres, **kwargs):\n",
    "    \n",
    "    \"\"\"\n",
    "    Function to calculate the weights from soft k-means\n",
    "    data: Array of data. Features arranged across the columns with each row being a different data point\n",
    "    cluster_centres: array of cluster centres. Input kmeans.cluster_centres_ directly.\n",
    "    param: m - keyword argument, fuzziness of the clustering. Default 2\n",
    "    \"\"\"\n",
    "\n",
    "    m = 2\n",
    "    if 'm' in kwargs:\n",
    "        m = kwargs['m']\n",
    "    \n",
    "    Nclusters = cluster_centres.shape[0]\n",
    "    Ndp = data.shape[0]\n",
    "    Nfeatures = data.shape[1]\n",
    "\n",
    "    EuclidDist = np.zeros((Ndp, Nclusters))\n",
    "    for i in range(Nclusters):\n",
    "        EuclidDist[:,i] = np.sum((data-np.matlib.repmat(cluster_centres[i], Ndp, 1))**2,axis=1)\n",
    "    \n",
    "\n",
    "    \n",
    "    invWeight = EuclidDist**(2/(m-1))*np.matlib.repmat(np.sum((1./EuclidDist)**(2/(m-1)),axis=1).reshape(-1,1),1,Nclusters)\n",
    "    Weight = 1./invWeight\n",
    "    \n",
    "    return Weight"
   ]
  },
  {
   "cell_type": "code",
   "execution_count": 29,
   "id": "f6a89347",
   "metadata": {
    "execution": {
     "iopub.execute_input": "2021-11-27T19:57:12.985809Z",
     "iopub.status.busy": "2021-11-27T19:57:12.985211Z",
     "iopub.status.idle": "2021-11-27T19:57:12.989316Z",
     "shell.execute_reply": "2021-11-27T19:57:12.989857Z",
     "shell.execute_reply.started": "2021-11-27T19:38:34.594231Z"
    },
    "papermill": {
     "duration": 0.044855,
     "end_time": "2021-11-27T19:57:12.990048",
     "exception": false,
     "start_time": "2021-11-27T19:57:12.945193",
     "status": "completed"
    },
    "tags": []
   },
   "outputs": [],
   "source": [
    "for i in range(4):\n",
    "    train['p' + str(i)] = 0\n",
    "    \n",
    "train[['p0', 'p1', 'p2','p3']] = soft_clustering_weights(reduced_data, kmeansmodel.cluster_centers_)"
   ]
  },
  {
   "cell_type": "code",
   "execution_count": 30,
   "id": "73df3fcd",
   "metadata": {
    "execution": {
     "iopub.execute_input": "2021-11-27T19:57:13.069263Z",
     "iopub.status.busy": "2021-11-27T19:57:13.068603Z",
     "iopub.status.idle": "2021-11-27T19:57:13.072405Z",
     "shell.execute_reply": "2021-11-27T19:57:13.071717Z",
     "shell.execute_reply.started": "2021-11-27T19:38:34.613964Z"
    },
    "papermill": {
     "duration": 0.045805,
     "end_time": "2021-11-27T19:57:13.072557",
     "exception": false,
     "start_time": "2021-11-27T19:57:13.026752",
     "status": "completed"
    },
    "tags": []
   },
   "outputs": [],
   "source": [
    "train['confidence'] = np.max(train[['p0', 'p1', 'p2','p3']].values, axis = 1)"
   ]
  },
  {
   "cell_type": "code",
   "execution_count": 31,
   "id": "7d471545",
   "metadata": {
    "execution": {
     "iopub.execute_input": "2021-11-27T19:57:13.144994Z",
     "iopub.status.busy": "2021-11-27T19:57:13.144420Z",
     "iopub.status.idle": "2021-11-27T19:57:13.152339Z",
     "shell.execute_reply": "2021-11-27T19:57:13.152868Z",
     "shell.execute_reply.started": "2021-11-27T19:38:34.673600Z"
    },
    "papermill": {
     "duration": 0.045816,
     "end_time": "2021-11-27T19:57:13.153041",
     "exception": false,
     "start_time": "2021-11-27T19:57:13.107225",
     "status": "completed"
    },
    "tags": []
   },
   "outputs": [
    {
     "data": {
      "text/plain": [
       "count    1888.0000000000\n",
       "mean        0.9456247662\n",
       "std         0.1089649260\n",
       "min         0.4285538774\n",
       "25%         0.9604000170\n",
       "50%         0.9963361375\n",
       "75%         0.9994258869\n",
       "max         0.9999999976\n",
       "Name: confidence, dtype: float64"
      ]
     },
     "execution_count": 31,
     "metadata": {},
     "output_type": "execute_result"
    }
   ],
   "source": [
    "train.confidence.describe()"
   ]
  },
  {
   "cell_type": "code",
   "execution_count": 32,
   "id": "883b9c1d",
   "metadata": {
    "execution": {
     "iopub.execute_input": "2021-11-27T19:57:13.228194Z",
     "iopub.status.busy": "2021-11-27T19:57:13.227546Z",
     "iopub.status.idle": "2021-11-27T19:57:13.235736Z",
     "shell.execute_reply": "2021-11-27T19:57:13.236346Z",
     "shell.execute_reply.started": "2021-11-27T19:38:34.693471Z"
    },
    "papermill": {
     "duration": 0.046544,
     "end_time": "2021-11-27T19:57:13.236517",
     "exception": false,
     "start_time": "2021-11-27T19:57:13.189973",
     "status": "completed"
    },
    "tags": []
   },
   "outputs": [],
   "source": [
    "train[\"Leader Group ID\"]=train[[\"p0\",\"p1\",\"p2\",\"p3\"]].idxmax(axis=1)"
   ]
  },
  {
   "cell_type": "code",
   "execution_count": 33,
   "id": "4487e442",
   "metadata": {
    "execution": {
     "iopub.execute_input": "2021-11-27T19:57:13.337941Z",
     "iopub.status.busy": "2021-11-27T19:57:13.337315Z",
     "iopub.status.idle": "2021-11-27T19:57:13.341268Z",
     "shell.execute_reply": "2021-11-27T19:57:13.340695Z",
     "shell.execute_reply.started": "2021-11-27T19:38:34.715511Z"
    },
    "papermill": {
     "duration": 0.069454,
     "end_time": "2021-11-27T19:57:13.341398",
     "exception": false,
     "start_time": "2021-11-27T19:57:13.271944",
     "status": "completed"
    },
    "tags": []
   },
   "outputs": [
    {
     "data": {
      "text/html": [
       "<div>\n",
       "<style scoped>\n",
       "    .dataframe tbody tr th:only-of-type {\n",
       "        vertical-align: middle;\n",
       "    }\n",
       "\n",
       "    .dataframe tbody tr th {\n",
       "        vertical-align: top;\n",
       "    }\n",
       "\n",
       "    .dataframe thead th {\n",
       "        text-align: right;\n",
       "    }\n",
       "</style>\n",
       "<table border=\"1\" class=\"dataframe\">\n",
       "  <thead>\n",
       "    <tr style=\"text-align: right;\">\n",
       "      <th></th>\n",
       "      <th>berth1_1</th>\n",
       "      <th>berth2_1</th>\n",
       "      <th>berth3_1</th>\n",
       "      <th>berth4_1</th>\n",
       "      <th>berth5_1</th>\n",
       "      <th>berth6_1</th>\n",
       "      <th>berth7_1</th>\n",
       "      <th>berth1_2</th>\n",
       "      <th>berth2_2</th>\n",
       "      <th>berth3_2</th>\n",
       "      <th>berth4_2</th>\n",
       "      <th>Clusters</th>\n",
       "      <th>p0</th>\n",
       "      <th>p1</th>\n",
       "      <th>p2</th>\n",
       "      <th>p3</th>\n",
       "      <th>confidence</th>\n",
       "      <th>Leader Group ID</th>\n",
       "    </tr>\n",
       "  </thead>\n",
       "  <tbody>\n",
       "    <tr>\n",
       "      <th>0</th>\n",
       "      <td>900.0</td>\n",
       "      <td>800.0</td>\n",
       "      <td>0.0</td>\n",
       "      <td>0.0</td>\n",
       "      <td>0.0</td>\n",
       "      <td>0.0</td>\n",
       "      <td>0.0</td>\n",
       "      <td>0.0</td>\n",
       "      <td>0.0</td>\n",
       "      <td>0.0</td>\n",
       "      <td>0.0</td>\n",
       "      <td>0.0</td>\n",
       "      <td>0.9999888115</td>\n",
       "      <td>0.0000001445</td>\n",
       "      <td>0.0000016116</td>\n",
       "      <td>0.0000094324</td>\n",
       "      <td>0.9999888115</td>\n",
       "      <td>p0</td>\n",
       "    </tr>\n",
       "    <tr>\n",
       "      <th>1</th>\n",
       "      <td>910.0</td>\n",
       "      <td>833.0</td>\n",
       "      <td>795.0</td>\n",
       "      <td>762.0</td>\n",
       "      <td>0.0</td>\n",
       "      <td>0.0</td>\n",
       "      <td>0.0</td>\n",
       "      <td>0.0</td>\n",
       "      <td>0.0</td>\n",
       "      <td>0.0</td>\n",
       "      <td>0.0</td>\n",
       "      <td>2.0</td>\n",
       "      <td>0.0032521924</td>\n",
       "      <td>0.0003070949</td>\n",
       "      <td>0.9953740897</td>\n",
       "      <td>0.0010666229</td>\n",
       "      <td>0.9953740897</td>\n",
       "      <td>p2</td>\n",
       "    </tr>\n",
       "    <tr>\n",
       "      <th>4</th>\n",
       "      <td>876.0</td>\n",
       "      <td>800.0</td>\n",
       "      <td>767.0</td>\n",
       "      <td>729.0</td>\n",
       "      <td>0.0</td>\n",
       "      <td>0.0</td>\n",
       "      <td>0.0</td>\n",
       "      <td>0.0</td>\n",
       "      <td>0.0</td>\n",
       "      <td>0.0</td>\n",
       "      <td>0.0</td>\n",
       "      <td>2.0</td>\n",
       "      <td>0.0016480669</td>\n",
       "      <td>0.0001476262</td>\n",
       "      <td>0.9976695367</td>\n",
       "      <td>0.0005347702</td>\n",
       "      <td>0.9976695367</td>\n",
       "      <td>p2</td>\n",
       "    </tr>\n",
       "    <tr>\n",
       "      <th>5</th>\n",
       "      <td>600.0</td>\n",
       "      <td>0.0</td>\n",
       "      <td>0.0</td>\n",
       "      <td>0.0</td>\n",
       "      <td>0.0</td>\n",
       "      <td>0.0</td>\n",
       "      <td>0.0</td>\n",
       "      <td>0.0</td>\n",
       "      <td>0.0</td>\n",
       "      <td>0.0</td>\n",
       "      <td>0.0</td>\n",
       "      <td>3.0</td>\n",
       "      <td>0.0046759358</td>\n",
       "      <td>0.0022081544</td>\n",
       "      <td>0.0004903656</td>\n",
       "      <td>0.9926255442</td>\n",
       "      <td>0.9926255442</td>\n",
       "      <td>p3</td>\n",
       "    </tr>\n",
       "    <tr>\n",
       "      <th>7</th>\n",
       "      <td>800.0</td>\n",
       "      <td>767.0</td>\n",
       "      <td>729.0</td>\n",
       "      <td>0.0</td>\n",
       "      <td>0.0</td>\n",
       "      <td>0.0</td>\n",
       "      <td>0.0</td>\n",
       "      <td>0.0</td>\n",
       "      <td>0.0</td>\n",
       "      <td>0.0</td>\n",
       "      <td>0.0</td>\n",
       "      <td>0.0</td>\n",
       "      <td>0.0041604254</td>\n",
       "      <td>0.0001065428</td>\n",
       "      <td>0.9949574202</td>\n",
       "      <td>0.0007756117</td>\n",
       "      <td>0.9949574202</td>\n",
       "      <td>p2</td>\n",
       "    </tr>\n",
       "  </tbody>\n",
       "</table>\n",
       "</div>"
      ],
      "text/plain": [
       "   berth1_1  berth2_1  berth3_1  berth4_1  berth5_1  berth6_1  berth7_1  \\\n",
       "0     900.0     800.0       0.0       0.0       0.0       0.0       0.0   \n",
       "1     910.0     833.0     795.0     762.0       0.0       0.0       0.0   \n",
       "4     876.0     800.0     767.0     729.0       0.0       0.0       0.0   \n",
       "5     600.0       0.0       0.0       0.0       0.0       0.0       0.0   \n",
       "7     800.0     767.0     729.0       0.0       0.0       0.0       0.0   \n",
       "\n",
       "   berth1_2  berth2_2  berth3_2  berth4_2  Clusters            p0  \\\n",
       "0       0.0       0.0       0.0       0.0       0.0  0.9999888115   \n",
       "1       0.0       0.0       0.0       0.0       2.0  0.0032521924   \n",
       "4       0.0       0.0       0.0       0.0       2.0  0.0016480669   \n",
       "5       0.0       0.0       0.0       0.0       3.0  0.0046759358   \n",
       "7       0.0       0.0       0.0       0.0       0.0  0.0041604254   \n",
       "\n",
       "             p1            p2            p3    confidence Leader Group ID  \n",
       "0  0.0000001445  0.0000016116  0.0000094324  0.9999888115              p0  \n",
       "1  0.0003070949  0.9953740897  0.0010666229  0.9953740897              p2  \n",
       "4  0.0001476262  0.9976695367  0.0005347702  0.9976695367              p2  \n",
       "5  0.0022081544  0.0004903656  0.9926255442  0.9926255442              p3  \n",
       "7  0.0001065428  0.9949574202  0.0007756117  0.9949574202              p2  "
      ]
     },
     "execution_count": 33,
     "metadata": {},
     "output_type": "execute_result"
    }
   ],
   "source": [
    "train.head()"
   ]
  },
  {
   "cell_type": "code",
   "execution_count": 34,
   "id": "03eccbb8",
   "metadata": {
    "execution": {
     "iopub.execute_input": "2021-11-27T19:57:13.418175Z",
     "iopub.status.busy": "2021-11-27T19:57:13.417546Z",
     "iopub.status.idle": "2021-11-27T19:57:13.420183Z",
     "shell.execute_reply": "2021-11-27T19:57:13.419728Z",
     "shell.execute_reply.started": "2021-11-27T19:38:34.759834Z"
    },
    "papermill": {
     "duration": 0.042677,
     "end_time": "2021-11-27T19:57:13.420333",
     "exception": false,
     "start_time": "2021-11-27T19:57:13.377656",
     "status": "completed"
    },
    "tags": []
   },
   "outputs": [],
   "source": [
    "train.reset_index(inplace = True,drop=True)"
   ]
  },
  {
   "cell_type": "code",
   "execution_count": 35,
   "id": "e685333e",
   "metadata": {
    "execution": {
     "iopub.execute_input": "2021-11-27T19:57:13.499052Z",
     "iopub.status.busy": "2021-11-27T19:57:13.498399Z",
     "iopub.status.idle": "2021-11-27T19:57:13.500497Z",
     "shell.execute_reply": "2021-11-27T19:57:13.500943Z",
     "shell.execute_reply.started": "2021-11-27T19:40:29.662297Z"
    },
    "papermill": {
     "duration": 0.045142,
     "end_time": "2021-11-27T19:57:13.501103",
     "exception": false,
     "start_time": "2021-11-27T19:57:13.455961",
     "status": "completed"
    },
    "tags": []
   },
   "outputs": [],
   "source": [
    "def closest_leader(x):\n",
    "    for ele in train[train[\"Leader Group ID\"][x]].sort_values(ascending=True):\n",
    "        if(ele>train[train[\"Leader Group ID\"][x]][x]):\n",
    "            element = ele\n",
    "            pos = train[train[train[\"Leader Group ID\"][x]] == ele].index[0]\n",
    "            break\n",
    "        elif(ele==train[train[\"Leader Group ID\"][x]][x]):\n",
    "            element = ele\n",
    "            pos = train[train[train[\"Leader Group ID\"][x]] == ele].index[0]\n",
    "    return element,pos\n",
    "def closest_follower(x):\n",
    "    for ele in train[train[\"Leader Group ID\"][x]].sort_values(ascending=False):\n",
    "        if(ele<train[train[\"Leader Group ID\"][x]][x]):\n",
    "            return ele, train[train[train[\"Leader Group ID\"][x]] == ele].index[0]\n",
    "            break"
   ]
  },
  {
   "cell_type": "code",
   "execution_count": 36,
   "id": "a8cfec85",
   "metadata": {
    "execution": {
     "iopub.execute_input": "2021-11-27T19:57:13.578016Z",
     "iopub.status.busy": "2021-11-27T19:57:13.577395Z",
     "iopub.status.idle": "2021-11-27T19:58:20.980857Z",
     "shell.execute_reply": "2021-11-27T19:58:20.980293Z",
     "shell.execute_reply.started": "2021-11-27T19:40:38.401316Z"
    },
    "papermill": {
     "duration": 67.444014,
     "end_time": "2021-11-27T19:58:20.981022",
     "exception": false,
     "start_time": "2021-11-27T19:57:13.537008",
     "status": "completed"
    },
    "tags": []
   },
   "outputs": [],
   "source": [
    "leadcon=[]\n",
    "for i in range(len(train)):\n",
    "    leadcon.append(closest_leader(i))\n",
    "train[\"sample_lead\"]=leadcon"
   ]
  },
  {
   "cell_type": "code",
   "execution_count": 37,
   "id": "31cd7900",
   "metadata": {
    "execution": {
     "iopub.execute_input": "2021-11-27T19:58:21.057023Z",
     "iopub.status.busy": "2021-11-27T19:58:21.056417Z",
     "iopub.status.idle": "2021-11-27T19:58:27.025080Z",
     "shell.execute_reply": "2021-11-27T19:58:27.025598Z",
     "shell.execute_reply.started": "2021-11-27T19:42:20.472157Z"
    },
    "papermill": {
     "duration": 6.008455,
     "end_time": "2021-11-27T19:58:27.025800",
     "exception": false,
     "start_time": "2021-11-27T19:58:21.017345",
     "status": "completed"
    },
    "tags": []
   },
   "outputs": [],
   "source": [
    "leadfol=[]\n",
    "for i in range(len(train)):\n",
    "    leadfol.append(closest_follower(i))\n",
    "train[\"sample_follow\"]=leadfol"
   ]
  },
  {
   "cell_type": "code",
   "execution_count": 38,
   "id": "a924f668",
   "metadata": {
    "execution": {
     "iopub.execute_input": "2021-11-27T19:58:27.102641Z",
     "iopub.status.busy": "2021-11-27T19:58:27.102055Z",
     "iopub.status.idle": "2021-11-27T19:58:27.108219Z",
     "shell.execute_reply": "2021-11-27T19:58:27.108682Z",
     "shell.execute_reply.started": "2021-11-27T19:42:29.531882Z"
    },
    "papermill": {
     "duration": 0.045277,
     "end_time": "2021-11-27T19:58:27.108833",
     "exception": false,
     "start_time": "2021-11-27T19:58:27.063556",
     "status": "completed"
    },
    "tags": []
   },
   "outputs": [],
   "source": [
    "train[['leadscore', 'leadpos']] = pd.DataFrame(train['sample_lead'].tolist(), index=train.index)"
   ]
  },
  {
   "cell_type": "code",
   "execution_count": 39,
   "id": "6d7241f6",
   "metadata": {
    "execution": {
     "iopub.execute_input": "2021-11-27T19:58:27.182521Z",
     "iopub.status.busy": "2021-11-27T19:58:27.181938Z",
     "iopub.status.idle": "2021-11-27T19:58:27.187779Z",
     "shell.execute_reply": "2021-11-27T19:58:27.188251Z",
     "shell.execute_reply.started": "2021-11-27T19:42:29.542637Z"
    },
    "papermill": {
     "duration": 0.044132,
     "end_time": "2021-11-27T19:58:27.188409",
     "exception": false,
     "start_time": "2021-11-27T19:58:27.144277",
     "status": "completed"
    },
    "tags": []
   },
   "outputs": [],
   "source": [
    "train[['folscore', 'folpos']] = pd.DataFrame(train['sample_follow'].tolist(), index=train.index)"
   ]
  },
  {
   "cell_type": "code",
   "execution_count": 40,
   "id": "32d1a49c",
   "metadata": {
    "execution": {
     "iopub.execute_input": "2021-11-27T19:58:27.262954Z",
     "iopub.status.busy": "2021-11-27T19:58:27.262044Z",
     "iopub.status.idle": "2021-11-27T19:58:27.267680Z",
     "shell.execute_reply": "2021-11-27T19:58:27.268242Z",
     "shell.execute_reply.started": "2021-11-27T19:42:29.560231Z"
    },
    "papermill": {
     "duration": 0.044435,
     "end_time": "2021-11-27T19:58:27.268404",
     "exception": false,
     "start_time": "2021-11-27T19:58:27.223969",
     "status": "completed"
    },
    "tags": []
   },
   "outputs": [],
   "source": [
    "train.drop(['sample_lead', 'sample_follow'], axis=1, inplace=True)"
   ]
  },
  {
   "cell_type": "code",
   "execution_count": 41,
   "id": "09109176",
   "metadata": {
    "execution": {
     "iopub.execute_input": "2021-11-27T19:58:27.344906Z",
     "iopub.status.busy": "2021-11-27T19:58:27.343982Z",
     "iopub.status.idle": "2021-11-27T19:58:27.346732Z",
     "shell.execute_reply": "2021-11-27T19:58:27.346172Z",
     "shell.execute_reply.started": "2021-11-27T19:42:29.571221Z"
    },
    "papermill": {
     "duration": 0.042795,
     "end_time": "2021-11-27T19:58:27.346862",
     "exception": false,
     "start_time": "2021-11-27T19:58:27.304067",
     "status": "completed"
    },
    "tags": []
   },
   "outputs": [],
   "source": [
    "id.reset_index(inplace = True, drop = True)"
   ]
  },
  {
   "cell_type": "code",
   "execution_count": 42,
   "id": "522c78d2",
   "metadata": {
    "execution": {
     "iopub.execute_input": "2021-11-27T19:58:27.423934Z",
     "iopub.status.busy": "2021-11-27T19:58:27.423342Z",
     "iopub.status.idle": "2021-11-27T19:58:27.425417Z",
     "shell.execute_reply": "2021-11-27T19:58:27.424845Z",
     "shell.execute_reply.started": "2021-11-27T19:42:29.583822Z"
    },
    "papermill": {
     "duration": 0.042907,
     "end_time": "2021-11-27T19:58:27.425542",
     "exception": false,
     "start_time": "2021-11-27T19:58:27.382635",
     "status": "completed"
    },
    "tags": []
   },
   "outputs": [],
   "source": [
    "train = pd.concat([train,id],axis=1)"
   ]
  },
  {
   "cell_type": "code",
   "execution_count": 43,
   "id": "b34bf1b5",
   "metadata": {
    "execution": {
     "iopub.execute_input": "2021-11-27T19:58:27.499641Z",
     "iopub.status.busy": "2021-11-27T19:58:27.499066Z",
     "iopub.status.idle": "2021-11-27T19:58:27.525087Z",
     "shell.execute_reply": "2021-11-27T19:58:27.525528Z",
     "shell.execute_reply.started": "2021-11-27T19:42:29.601937Z"
    },
    "papermill": {
     "duration": 0.064298,
     "end_time": "2021-11-27T19:58:27.525688",
     "exception": false,
     "start_time": "2021-11-27T19:58:27.461390",
     "status": "completed"
    },
    "tags": []
   },
   "outputs": [
    {
     "data": {
      "text/html": [
       "<div>\n",
       "<style scoped>\n",
       "    .dataframe tbody tr th:only-of-type {\n",
       "        vertical-align: middle;\n",
       "    }\n",
       "\n",
       "    .dataframe tbody tr th {\n",
       "        vertical-align: top;\n",
       "    }\n",
       "\n",
       "    .dataframe thead th {\n",
       "        text-align: right;\n",
       "    }\n",
       "</style>\n",
       "<table border=\"1\" class=\"dataframe\">\n",
       "  <thead>\n",
       "    <tr style=\"text-align: right;\">\n",
       "      <th></th>\n",
       "      <th>berth1_1</th>\n",
       "      <th>berth2_1</th>\n",
       "      <th>berth3_1</th>\n",
       "      <th>berth4_1</th>\n",
       "      <th>berth5_1</th>\n",
       "      <th>berth6_1</th>\n",
       "      <th>berth7_1</th>\n",
       "      <th>berth1_2</th>\n",
       "      <th>berth2_2</th>\n",
       "      <th>berth3_2</th>\n",
       "      <th>...</th>\n",
       "      <th>p1</th>\n",
       "      <th>p2</th>\n",
       "      <th>p3</th>\n",
       "      <th>confidence</th>\n",
       "      <th>Leader Group ID</th>\n",
       "      <th>leadscore</th>\n",
       "      <th>leadpos</th>\n",
       "      <th>folscore</th>\n",
       "      <th>folpos</th>\n",
       "      <th>Bus</th>\n",
       "    </tr>\n",
       "  </thead>\n",
       "  <tbody>\n",
       "    <tr>\n",
       "      <th>0</th>\n",
       "      <td>900.0</td>\n",
       "      <td>800.0</td>\n",
       "      <td>0.0</td>\n",
       "      <td>0.0</td>\n",
       "      <td>0.0</td>\n",
       "      <td>0.0</td>\n",
       "      <td>0.0</td>\n",
       "      <td>0.0</td>\n",
       "      <td>0.0</td>\n",
       "      <td>0.0</td>\n",
       "      <td>...</td>\n",
       "      <td>0.0000001445</td>\n",
       "      <td>0.0000016116</td>\n",
       "      <td>0.0000094324</td>\n",
       "      <td>0.9999888115</td>\n",
       "      <td>p0</td>\n",
       "      <td>0.9999889617</td>\n",
       "      <td>772</td>\n",
       "      <td>0.9999886950</td>\n",
       "      <td>1555</td>\n",
       "      <td>d6fa79179fda2a77455794637f225962</td>\n",
       "    </tr>\n",
       "    <tr>\n",
       "      <th>1</th>\n",
       "      <td>910.0</td>\n",
       "      <td>833.0</td>\n",
       "      <td>795.0</td>\n",
       "      <td>762.0</td>\n",
       "      <td>0.0</td>\n",
       "      <td>0.0</td>\n",
       "      <td>0.0</td>\n",
       "      <td>0.0</td>\n",
       "      <td>0.0</td>\n",
       "      <td>0.0</td>\n",
       "      <td>...</td>\n",
       "      <td>0.0003070949</td>\n",
       "      <td>0.9953740897</td>\n",
       "      <td>0.0010666229</td>\n",
       "      <td>0.9953740897</td>\n",
       "      <td>p2</td>\n",
       "      <td>0.9953760004</td>\n",
       "      <td>1300</td>\n",
       "      <td>0.9953424017</td>\n",
       "      <td>1677</td>\n",
       "      <td>d6fa79179fda2a77455794637f225962</td>\n",
       "    </tr>\n",
       "    <tr>\n",
       "      <th>2</th>\n",
       "      <td>876.0</td>\n",
       "      <td>800.0</td>\n",
       "      <td>767.0</td>\n",
       "      <td>729.0</td>\n",
       "      <td>0.0</td>\n",
       "      <td>0.0</td>\n",
       "      <td>0.0</td>\n",
       "      <td>0.0</td>\n",
       "      <td>0.0</td>\n",
       "      <td>0.0</td>\n",
       "      <td>...</td>\n",
       "      <td>0.0001476262</td>\n",
       "      <td>0.9976695367</td>\n",
       "      <td>0.0005347702</td>\n",
       "      <td>0.9976695367</td>\n",
       "      <td>p2</td>\n",
       "      <td>0.9976741632</td>\n",
       "      <td>1135</td>\n",
       "      <td>0.9976669654</td>\n",
       "      <td>1109</td>\n",
       "      <td>d6fa79179fda2a77455794637f225962</td>\n",
       "    </tr>\n",
       "    <tr>\n",
       "      <th>3</th>\n",
       "      <td>600.0</td>\n",
       "      <td>0.0</td>\n",
       "      <td>0.0</td>\n",
       "      <td>0.0</td>\n",
       "      <td>0.0</td>\n",
       "      <td>0.0</td>\n",
       "      <td>0.0</td>\n",
       "      <td>0.0</td>\n",
       "      <td>0.0</td>\n",
       "      <td>0.0</td>\n",
       "      <td>...</td>\n",
       "      <td>0.0022081544</td>\n",
       "      <td>0.0004903656</td>\n",
       "      <td>0.9926255442</td>\n",
       "      <td>0.9926255442</td>\n",
       "      <td>p3</td>\n",
       "      <td>0.9930277542</td>\n",
       "      <td>430</td>\n",
       "      <td>0.9925239411</td>\n",
       "      <td>804</td>\n",
       "      <td>d6fa79179fda2a77455794637f225962</td>\n",
       "    </tr>\n",
       "    <tr>\n",
       "      <th>4</th>\n",
       "      <td>800.0</td>\n",
       "      <td>767.0</td>\n",
       "      <td>729.0</td>\n",
       "      <td>0.0</td>\n",
       "      <td>0.0</td>\n",
       "      <td>0.0</td>\n",
       "      <td>0.0</td>\n",
       "      <td>0.0</td>\n",
       "      <td>0.0</td>\n",
       "      <td>0.0</td>\n",
       "      <td>...</td>\n",
       "      <td>0.0001065428</td>\n",
       "      <td>0.9949574202</td>\n",
       "      <td>0.0007756117</td>\n",
       "      <td>0.9949574202</td>\n",
       "      <td>p2</td>\n",
       "      <td>0.9949640300</td>\n",
       "      <td>1731</td>\n",
       "      <td>0.9948532417</td>\n",
       "      <td>1304</td>\n",
       "      <td>d6fa79179fda2a77455794637f225962</td>\n",
       "    </tr>\n",
       "  </tbody>\n",
       "</table>\n",
       "<p>5 rows × 23 columns</p>\n",
       "</div>"
      ],
      "text/plain": [
       "   berth1_1  berth2_1  berth3_1  berth4_1  berth5_1  berth6_1  berth7_1  \\\n",
       "0     900.0     800.0       0.0       0.0       0.0       0.0       0.0   \n",
       "1     910.0     833.0     795.0     762.0       0.0       0.0       0.0   \n",
       "2     876.0     800.0     767.0     729.0       0.0       0.0       0.0   \n",
       "3     600.0       0.0       0.0       0.0       0.0       0.0       0.0   \n",
       "4     800.0     767.0     729.0       0.0       0.0       0.0       0.0   \n",
       "\n",
       "   berth1_2  berth2_2  berth3_2  ...            p1            p2  \\\n",
       "0       0.0       0.0       0.0  ...  0.0000001445  0.0000016116   \n",
       "1       0.0       0.0       0.0  ...  0.0003070949  0.9953740897   \n",
       "2       0.0       0.0       0.0  ...  0.0001476262  0.9976695367   \n",
       "3       0.0       0.0       0.0  ...  0.0022081544  0.0004903656   \n",
       "4       0.0       0.0       0.0  ...  0.0001065428  0.9949574202   \n",
       "\n",
       "             p3    confidence  Leader Group ID     leadscore  leadpos  \\\n",
       "0  0.0000094324  0.9999888115               p0  0.9999889617      772   \n",
       "1  0.0010666229  0.9953740897               p2  0.9953760004     1300   \n",
       "2  0.0005347702  0.9976695367               p2  0.9976741632     1135   \n",
       "3  0.9926255442  0.9926255442               p3  0.9930277542      430   \n",
       "4  0.0007756117  0.9949574202               p2  0.9949640300     1731   \n",
       "\n",
       "       folscore  folpos                               Bus  \n",
       "0  0.9999886950    1555  d6fa79179fda2a77455794637f225962  \n",
       "1  0.9953424017    1677  d6fa79179fda2a77455794637f225962  \n",
       "2  0.9976669654    1109  d6fa79179fda2a77455794637f225962  \n",
       "3  0.9925239411     804  d6fa79179fda2a77455794637f225962  \n",
       "4  0.9948532417    1304  d6fa79179fda2a77455794637f225962  \n",
       "\n",
       "[5 rows x 23 columns]"
      ]
     },
     "execution_count": 43,
     "metadata": {},
     "output_type": "execute_result"
    }
   ],
   "source": [
    "train.head()"
   ]
  },
  {
   "cell_type": "code",
   "execution_count": 44,
   "id": "366c5217",
   "metadata": {
    "execution": {
     "iopub.execute_input": "2021-11-27T19:58:27.607739Z",
     "iopub.status.busy": "2021-11-27T19:58:27.602207Z",
     "iopub.status.idle": "2021-11-27T19:58:27.616562Z",
     "shell.execute_reply": "2021-11-27T19:58:27.615907Z",
     "shell.execute_reply.started": "2021-11-27T19:42:29.651050Z"
    },
    "papermill": {
     "duration": 0.055003,
     "end_time": "2021-11-27T19:58:27.616695",
     "exception": false,
     "start_time": "2021-11-27T19:58:27.561692",
     "status": "completed"
    },
    "tags": []
   },
   "outputs": [],
   "source": [
    "train[\"leadpos\"]=train[\"leadpos\"].astype(int)\n",
    "follows=[]\n",
    "for i in train[\"leadpos\"]:\n",
    "    follows.append(train[\"Bus\"][i])\n",
    "train[\"Follows\"]=follows"
   ]
  },
  {
   "cell_type": "code",
   "execution_count": 45,
   "id": "acaa8bf3",
   "metadata": {
    "execution": {
     "iopub.execute_input": "2021-11-27T19:58:27.703407Z",
     "iopub.status.busy": "2021-11-27T19:58:27.696752Z",
     "iopub.status.idle": "2021-11-27T19:58:27.705952Z",
     "shell.execute_reply": "2021-11-27T19:58:27.706429Z",
     "shell.execute_reply.started": "2021-11-27T19:42:29.687704Z"
    },
    "papermill": {
     "duration": 0.053514,
     "end_time": "2021-11-27T19:58:27.706593",
     "exception": false,
     "start_time": "2021-11-27T19:58:27.653079",
     "status": "completed"
    },
    "tags": []
   },
   "outputs": [],
   "source": [
    "followedby=[]\n",
    "for i in train[\"folpos\"]:\n",
    "    followedby.append(train[\"Bus\"][i])\n",
    "train[\"Is followed by\"]=followedby"
   ]
  },
  {
   "cell_type": "code",
   "execution_count": 46,
   "id": "03f186ba",
   "metadata": {
    "execution": {
     "iopub.execute_input": "2021-11-27T19:58:27.781743Z",
     "iopub.status.busy": "2021-11-27T19:58:27.781166Z",
     "iopub.status.idle": "2021-11-27T19:58:27.786697Z",
     "shell.execute_reply": "2021-11-27T19:58:27.787163Z",
     "shell.execute_reply.started": "2021-11-27T19:42:29.726872Z"
    },
    "papermill": {
     "duration": 0.044614,
     "end_time": "2021-11-27T19:58:27.787347",
     "exception": false,
     "start_time": "2021-11-27T19:58:27.742733",
     "status": "completed"
    },
    "tags": []
   },
   "outputs": [],
   "source": [
    "train.drop(['berth1_1', 'berth2_1', 'berth3_1', 'berth4_1', 'berth5_1', 'berth6_1',\n",
    "       'berth7_1', 'berth1_2', 'berth2_2', 'berth3_2', 'berth4_2', 'Clusters',\n",
    "       'p0', 'p1', 'p2', 'p3', 'confidence','Leader Group ID','leadpos','folpos'], axis=1, inplace=True)"
   ]
  },
  {
   "cell_type": "code",
   "execution_count": 47,
   "id": "15b76069",
   "metadata": {
    "execution": {
     "iopub.execute_input": "2021-11-27T19:58:27.862799Z",
     "iopub.status.busy": "2021-11-27T19:58:27.862220Z",
     "iopub.status.idle": "2021-11-27T19:58:27.866422Z",
     "shell.execute_reply": "2021-11-27T19:58:27.866856Z",
     "shell.execute_reply.started": "2021-11-27T19:42:29.755857Z"
    },
    "papermill": {
     "duration": 0.043622,
     "end_time": "2021-11-27T19:58:27.867053",
     "exception": false,
     "start_time": "2021-11-27T19:58:27.823431",
     "status": "completed"
    },
    "tags": []
   },
   "outputs": [],
   "source": [
    "train = train[['Bus','Follows','leadscore','Is followed by','folscore']]"
   ]
  },
  {
   "cell_type": "code",
   "execution_count": 48,
   "id": "d7b88aea",
   "metadata": {
    "execution": {
     "iopub.execute_input": "2021-11-27T19:58:27.941961Z",
     "iopub.status.busy": "2021-11-27T19:58:27.941380Z",
     "iopub.status.idle": "2021-11-27T19:58:27.945625Z",
     "shell.execute_reply": "2021-11-27T19:58:27.946165Z",
     "shell.execute_reply.started": "2021-11-27T19:42:29.789330Z"
    },
    "papermill": {
     "duration": 0.043409,
     "end_time": "2021-11-27T19:58:27.946365",
     "exception": false,
     "start_time": "2021-11-27T19:58:27.902956",
     "status": "completed"
    },
    "tags": []
   },
   "outputs": [],
   "source": [
    "train.rename({'leadscore': 'Confidence Score (0 to 1)', 'folscore': 'Confidence Score (0 to 1)'}, axis=1, inplace=True)"
   ]
  },
  {
   "cell_type": "code",
   "execution_count": 49,
   "id": "d48ac735",
   "metadata": {
    "execution": {
     "iopub.execute_input": "2021-11-27T19:58:28.023896Z",
     "iopub.status.busy": "2021-11-27T19:58:28.023318Z",
     "iopub.status.idle": "2021-11-27T19:58:28.032897Z",
     "shell.execute_reply": "2021-11-27T19:58:28.033360Z",
     "shell.execute_reply.started": "2021-11-27T19:42:29.798080Z"
    },
    "papermill": {
     "duration": 0.051067,
     "end_time": "2021-11-27T19:58:28.033517",
     "exception": false,
     "start_time": "2021-11-27T19:58:27.982450",
     "status": "completed"
    },
    "tags": []
   },
   "outputs": [
    {
     "data": {
      "text/html": [
       "<div>\n",
       "<style scoped>\n",
       "    .dataframe tbody tr th:only-of-type {\n",
       "        vertical-align: middle;\n",
       "    }\n",
       "\n",
       "    .dataframe tbody tr th {\n",
       "        vertical-align: top;\n",
       "    }\n",
       "\n",
       "    .dataframe thead th {\n",
       "        text-align: right;\n",
       "    }\n",
       "</style>\n",
       "<table border=\"1\" class=\"dataframe\">\n",
       "  <thead>\n",
       "    <tr style=\"text-align: right;\">\n",
       "      <th></th>\n",
       "      <th>Bus</th>\n",
       "      <th>Follows</th>\n",
       "      <th>Confidence Score (0 to 1)</th>\n",
       "      <th>Is followed by</th>\n",
       "      <th>Confidence Score (0 to 1)</th>\n",
       "    </tr>\n",
       "  </thead>\n",
       "  <tbody>\n",
       "    <tr>\n",
       "      <th>0</th>\n",
       "      <td>d6fa79179fda2a77455794637f225962</td>\n",
       "      <td>6b4c5b251baf9846a4c4273693154363</td>\n",
       "      <td>0.9999889617</td>\n",
       "      <td>a6951a59b64579edcf822ab9ea4c0c83</td>\n",
       "      <td>0.9999886950</td>\n",
       "    </tr>\n",
       "    <tr>\n",
       "      <th>1</th>\n",
       "      <td>d6fa79179fda2a77455794637f225962</td>\n",
       "      <td>5580f995d6f4d3bcceca7e2db6c77bf7</td>\n",
       "      <td>0.9953760004</td>\n",
       "      <td>5580f995d6f4d3bcceca7e2db6c77bf7</td>\n",
       "      <td>0.9953424017</td>\n",
       "    </tr>\n",
       "    <tr>\n",
       "      <th>2</th>\n",
       "      <td>d6fa79179fda2a77455794637f225962</td>\n",
       "      <td>642c372f4c10a6c0039912b557aa8a22</td>\n",
       "      <td>0.9976741632</td>\n",
       "      <td>22f694bbcef788c5f2f4d44ad39fcdbd</td>\n",
       "      <td>0.9976669654</td>\n",
       "    </tr>\n",
       "    <tr>\n",
       "      <th>3</th>\n",
       "      <td>d6fa79179fda2a77455794637f225962</td>\n",
       "      <td>74017231b804c80d3f1fa28be2fe0ffa</td>\n",
       "      <td>0.9930277542</td>\n",
       "      <td>49a138fe484117e03704bcd345a83d32</td>\n",
       "      <td>0.9925239411</td>\n",
       "    </tr>\n",
       "    <tr>\n",
       "      <th>4</th>\n",
       "      <td>d6fa79179fda2a77455794637f225962</td>\n",
       "      <td>a6951a59b64579edcf822ab9ea4c0c83</td>\n",
       "      <td>0.9949640300</td>\n",
       "      <td>5580f995d6f4d3bcceca7e2db6c77bf7</td>\n",
       "      <td>0.9948532417</td>\n",
       "    </tr>\n",
       "  </tbody>\n",
       "</table>\n",
       "</div>"
      ],
      "text/plain": [
       "                                Bus                           Follows  \\\n",
       "0  d6fa79179fda2a77455794637f225962  6b4c5b251baf9846a4c4273693154363   \n",
       "1  d6fa79179fda2a77455794637f225962  5580f995d6f4d3bcceca7e2db6c77bf7   \n",
       "2  d6fa79179fda2a77455794637f225962  642c372f4c10a6c0039912b557aa8a22   \n",
       "3  d6fa79179fda2a77455794637f225962  74017231b804c80d3f1fa28be2fe0ffa   \n",
       "4  d6fa79179fda2a77455794637f225962  a6951a59b64579edcf822ab9ea4c0c83   \n",
       "\n",
       "   Confidence Score (0 to 1)                    Is followed by  \\\n",
       "0               0.9999889617  a6951a59b64579edcf822ab9ea4c0c83   \n",
       "1               0.9953760004  5580f995d6f4d3bcceca7e2db6c77bf7   \n",
       "2               0.9976741632  22f694bbcef788c5f2f4d44ad39fcdbd   \n",
       "3               0.9930277542  49a138fe484117e03704bcd345a83d32   \n",
       "4               0.9949640300  5580f995d6f4d3bcceca7e2db6c77bf7   \n",
       "\n",
       "   Confidence Score (0 to 1)  \n",
       "0               0.9999886950  \n",
       "1               0.9953424017  \n",
       "2               0.9976669654  \n",
       "3               0.9925239411  \n",
       "4               0.9948532417  "
      ]
     },
     "execution_count": 49,
     "metadata": {},
     "output_type": "execute_result"
    }
   ],
   "source": [
    "train.head()"
   ]
  },
  {
   "cell_type": "code",
   "execution_count": 50,
   "id": "63cef89d",
   "metadata": {
    "execution": {
     "iopub.execute_input": "2021-11-27T19:58:28.110348Z",
     "iopub.status.busy": "2021-11-27T19:58:28.109727Z",
     "iopub.status.idle": "2021-11-27T19:58:28.127161Z",
     "shell.execute_reply": "2021-11-27T19:58:28.127645Z",
     "shell.execute_reply.started": "2021-11-27T19:47:09.729104Z"
    },
    "papermill": {
     "duration": 0.057567,
     "end_time": "2021-11-27T19:58:28.127812",
     "exception": false,
     "start_time": "2021-11-27T19:58:28.070245",
     "status": "completed"
    },
    "tags": []
   },
   "outputs": [],
   "source": [
    "train.to_csv('DLW9383_BandoftheHawk_output.csv',index=False)"
   ]
  }
 ],
 "metadata": {
  "kernelspec": {
   "display_name": "Python 3",
   "language": "python",
   "name": "python3"
  },
  "language_info": {
   "codemirror_mode": {
    "name": "ipython",
    "version": 3
   },
   "file_extension": ".py",
   "mimetype": "text/x-python",
   "name": "python",
   "nbconvert_exporter": "python",
   "pygments_lexer": "ipython3",
   "version": "3.7.10"
  },
  "papermill": {
   "default_parameters": {},
   "duration": 99.267496,
   "end_time": "2021-11-27T19:58:28.874657",
   "environment_variables": {},
   "exception": null,
   "input_path": "__notebook__.ipynb",
   "output_path": "__notebook__.ipynb",
   "parameters": {},
   "start_time": "2021-11-27T19:56:49.607161",
   "version": "2.3.3"
  }
 },
 "nbformat": 4,
 "nbformat_minor": 5
}
